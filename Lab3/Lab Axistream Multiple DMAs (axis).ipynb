{
 "cells": [
  {
   "cell_type": "code",
   "execution_count": 1,
   "metadata": {},
   "outputs": [
    {
     "data": {
      "application/javascript": [
       "\n",
       "try {\n",
       "require(['notebook/js/codecell'], function(codecell) {\n",
       "  codecell.CodeCell.options_default.highlight_modes[\n",
       "      'magic_text/x-csrc'] = {'reg':[/^%%microblaze/]};\n",
       "  Jupyter.notebook.events.one('kernel_ready.Kernel', function(){\n",
       "      Jupyter.notebook.get_cells().map(function(cell){\n",
       "          if (cell.cell_type == 'code'){ cell.auto_highlight(); } }) ;\n",
       "  });\n",
       "});\n",
       "} catch (e) {};\n"
      ]
     },
     "metadata": {},
     "output_type": "display_data"
    },
    {
     "data": {
      "application/javascript": [
       "\n",
       "try {\n",
       "require(['notebook/js/codecell'], function(codecell) {\n",
       "  codecell.CodeCell.options_default.highlight_modes[\n",
       "      'magic_text/x-csrc'] = {'reg':[/^%%pybind11/]};\n",
       "  Jupyter.notebook.events.one('kernel_ready.Kernel', function(){\n",
       "      Jupyter.notebook.get_cells().map(function(cell){\n",
       "          if (cell.cell_type == 'code'){ cell.auto_highlight(); } }) ;\n",
       "  });\n",
       "});\n",
       "} catch (e) {};\n"
      ]
     },
     "metadata": {},
     "output_type": "display_data"
    }
   ],
   "source": [
    "import time\n",
    "from pynq import Overlay\n",
    "import pynq.lib.dma\n",
    "from pynq import Xlnk\n",
    "import numpy as np\n",
    "from pynq import MMIO\n",
    "import random"
   ]
  },
  {
   "cell_type": "code",
   "execution_count": 2,
   "metadata": {},
   "outputs": [
    {
     "name": "stderr",
     "output_type": "stream",
     "text": [
      "/usr/lib/python3/dist-packages/ipykernel_launcher.py:6: DeprecationWarning: pynq.Xlnk is deprecated and will be removed in 2.7 - use pynq.allocate instead\n",
      "  \n"
     ]
    }
   ],
   "source": [
    "ol = Overlay('/home/xilinx/jupyter_notebooks/sadd/sadd.bit') # check this path\n",
    "ol.download() # this downloads your bitstream into FPGA\n",
    "dma1 = ol.sadd_dma1 # first DMA. Note that we had to access the hierarchy before accessing the DMA\n",
    "dma2 = ol.sadd_dma2 # second DMA\n",
    "sadd_ip = MMIO(0x40000000, 0x10000) # we got this address from\n",
    "xlnk = Xlnk()"
   ]
  },
  {
   "cell_type": "code",
   "execution_count": 3,
   "metadata": {},
   "outputs": [
    {
     "name": "stdout",
     "output_type": "stream",
     "text": [
      "Hardware execution time:  0.0031807422637939453\n",
      "7+13 = 20\n",
      "3+0 = 3\n",
      "17+7 = 24\n",
      "4+8 = 12\n",
      "16+16 = 32\n",
      "1+1 = 2\n",
      "12+14 = 26\n",
      "10+4 = 14\n",
      "0+2 = 2\n",
      "19+12 = 31\n",
      "18+5 = 23\n",
      "11+11 = 22\n",
      "14+3 = 17\n",
      "9+9 = 18\n",
      "5+17 = 22\n",
      "13+15 = 28\n",
      "15+10 = 25\n",
      "6+19 = 25\n",
      "8+6 = 14\n",
      "2+18 = 20\n"
     ]
    }
   ],
   "source": [
    "length = 20\n",
    "\n",
    "in_buffer1 = xlnk.cma_array(shape=(length,), dtype=np.int32) # input buffer 1\n",
    "in_buffer2 = xlnk.cma_array(shape=(length,), dtype=np.int32) # input buffer 2\n",
    "out_buffer = xlnk.cma_array(shape=(length,), dtype=np.int32) # output buffer\n",
    "\n",
    "samples = random.sample(range(0, length), length)\n",
    "np.copyto(in_buffer1, samples)\n",
    "samples = random.sample(range(0, length), length)\n",
    "np.copyto(in_buffer2, samples)\n",
    "\n",
    "\n",
    "sadd_ip.write(0x10, length) # we got this address from Vivado source. Since we didn't do port=return, and we set a constant for ap_start, we only have to write length.\n",
    "sadd_ip.write(0x00, 1)\n",
    "t_start = time.time()\n",
    "dma1.sendchannel.transfer(in_buffer1)\n",
    "dma2.sendchannel.transfer(in_buffer2)\n",
    "dma1.recvchannel.transfer(out_buffer)\n",
    "dma1.sendchannel.wait()\n",
    "dma2.sendchannel.wait()\n",
    "dma1.recvchannel.wait()\n",
    "t_stop = time.time()\n",
    "in_buffer1.close()\n",
    "in_buffer2.close()\n",
    "out_buffer.close()\n",
    "print('Hardware execution time: ', t_stop-t_start)\n",
    "for i in range(0, length):\n",
    "    print('{}+{} = {}'.format(in_buffer1[i], in_buffer2[i], out_buffer[i]))"
   ]
  },
  {
   "cell_type": "code",
   "execution_count": null,
   "metadata": {},
   "outputs": [],
   "source": []
  }
 ],
 "metadata": {
  "kernelspec": {
   "display_name": "Python 3",
   "language": "python",
   "name": "python3"
  },
  "language_info": {
   "codemirror_mode": {
    "name": "ipython",
    "version": 3
   },
   "file_extension": ".py",
   "mimetype": "text/x-python",
   "name": "python",
   "nbconvert_exporter": "python",
   "pygments_lexer": "ipython3",
   "version": "3.6.5"
  }
 },
 "nbformat": 4,
 "nbformat_minor": 2
}
